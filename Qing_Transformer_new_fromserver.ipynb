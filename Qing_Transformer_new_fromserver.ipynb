{
 "cells": [
  {
   "cell_type": "code",
   "execution_count": 1,
   "metadata": {},
   "outputs": [
    {
     "name": "stderr",
     "output_type": "stream",
     "text": [
      "/home/qing/.conda/envs/PyTorch/lib/python3.10/site-packages/tqdm/auto.py:22: TqdmWarning: IProgress not found. Please update jupyter and ipywidgets. See https://ipywidgets.readthedocs.io/en/stable/user_install.html\n",
      "  from .autonotebook import tqdm as notebook_tqdm\n"
     ]
    }
   ],
   "source": [
    "import matplotlib.pyplot as plt\n",
    "from time import time\n",
    "import scipy.io\n",
    "import matplotlib.pyplot as plt\n",
    "import numpy as np\n",
    "import pandas as pd\n",
    "from sklearn.model_selection import train_test_split\n",
    "from torchsummary import summary\n",
    "import pandas as pd \n",
    "import torch\n",
    "from torch import nn\n",
    "from torch.nn import functional as F\n",
    "from torch import Tensor\n",
    "from torch.utils.data import TensorDataset, DataLoader\n",
    "from torch import optim\n",
    "from torch.nn.modules.loss import CrossEntropyLoss\n",
    "from IPython.core.debugger import set_trace\n",
    "from pathlib import Path\n",
    "from tqdm.auto import tqdm\n",
    "from funhelper import get_df_all, download\n",
    "from train_helper import get_dataloader, fit, validate \n",
    "import causal_convolution_layer\n",
    "import Dataloader\n",
    "from tqdm import tqdm"
   ]
  },
  {
   "cell_type": "code",
   "execution_count": 2,
   "metadata": {},
   "outputs": [
    {
     "name": "stdout",
     "output_type": "stream",
     "text": [
      "cuda:0\n"
     ]
    }
   ],
   "source": [
    "device = torch.device(\"cuda:0\" if torch.cuda.is_available() else \"cpu\")\n",
    "print(device)"
   ]
  },
  {
   "cell_type": "markdown",
   "metadata": {},
   "source": [
    "## Data Import "
   ]
  },
  {
   "cell_type": "code",
   "execution_count": 3,
   "metadata": {},
   "outputs": [],
   "source": [
    "working_dir = Path('/home/qing/Project/Code/CWRU-1')\n",
    "DATA_PATH = Path(\"./Data\")\n",
    "save_model_path = working_dir / 'Model'\n",
    "DE_path = DATA_PATH / '12k_DE'"
   ]
  },
  {
   "cell_type": "code",
   "execution_count": 4,
   "metadata": {},
   "outputs": [
    {
     "data": {
      "text/html": [
       "<div>\n",
       "<style scoped>\n",
       "    .dataframe tbody tr th:only-of-type {\n",
       "        vertical-align: middle;\n",
       "    }\n",
       "\n",
       "    .dataframe tbody tr th {\n",
       "        vertical-align: top;\n",
       "    }\n",
       "\n",
       "    .dataframe thead th {\n",
       "        text-align: right;\n",
       "    }\n",
       "</style>\n",
       "<table border=\"1\" class=\"dataframe\">\n",
       "  <thead>\n",
       "    <tr style=\"text-align: right;\">\n",
       "      <th></th>\n",
       "      <th>label</th>\n",
       "      <th>filename</th>\n",
       "      <th>0</th>\n",
       "      <th>1</th>\n",
       "      <th>2</th>\n",
       "      <th>3</th>\n",
       "      <th>4</th>\n",
       "      <th>5</th>\n",
       "      <th>6</th>\n",
       "      <th>7</th>\n",
       "      <th>...</th>\n",
       "      <th>490</th>\n",
       "      <th>491</th>\n",
       "      <th>492</th>\n",
       "      <th>493</th>\n",
       "      <th>494</th>\n",
       "      <th>495</th>\n",
       "      <th>496</th>\n",
       "      <th>497</th>\n",
       "      <th>498</th>\n",
       "      <th>499</th>\n",
       "    </tr>\n",
       "  </thead>\n",
       "  <tbody>\n",
       "    <tr>\n",
       "      <th>215</th>\n",
       "      <td>2</td>\n",
       "      <td>Data/12k_DE/IR028_2.mat</td>\n",
       "      <td>2.818930</td>\n",
       "      <td>1.243664</td>\n",
       "      <td>-1.143175</td>\n",
       "      <td>0.223151</td>\n",
       "      <td>2.062976</td>\n",
       "      <td>0.604272</td>\n",
       "      <td>-0.200531</td>\n",
       "      <td>0.458208</td>\n",
       "      <td>...</td>\n",
       "      <td>-2.472260</td>\n",
       "      <td>-1.604583</td>\n",
       "      <td>-0.325798</td>\n",
       "      <td>0.074669</td>\n",
       "      <td>-0.395444</td>\n",
       "      <td>-0.012873</td>\n",
       "      <td>1.171116</td>\n",
       "      <td>1.176920</td>\n",
       "      <td>0.242497</td>\n",
       "      <td>0.310209</td>\n",
       "    </tr>\n",
       "    <tr>\n",
       "      <th>1216</th>\n",
       "      <td>1</td>\n",
       "      <td>Data/12k_DE/B007_1.mat</td>\n",
       "      <td>-0.480198</td>\n",
       "      <td>1.050512</td>\n",
       "      <td>1.167361</td>\n",
       "      <td>-0.921884</td>\n",
       "      <td>-1.132211</td>\n",
       "      <td>0.906789</td>\n",
       "      <td>0.682441</td>\n",
       "      <td>-1.004847</td>\n",
       "      <td>...</td>\n",
       "      <td>-0.227806</td>\n",
       "      <td>-0.087589</td>\n",
       "      <td>0.468609</td>\n",
       "      <td>0.609995</td>\n",
       "      <td>0.303853</td>\n",
       "      <td>0.162466</td>\n",
       "      <td>0.323717</td>\n",
       "      <td>0.095863</td>\n",
       "      <td>0.453418</td>\n",
       "      <td>0.717495</td>\n",
       "    </tr>\n",
       "    <tr>\n",
       "      <th>12190</th>\n",
       "      <td>3</td>\n",
       "      <td>Data/12k_DE/OR014@6_0.mat</td>\n",
       "      <td>-0.191117</td>\n",
       "      <td>-1.224750</td>\n",
       "      <td>-0.047296</td>\n",
       "      <td>0.349942</td>\n",
       "      <td>-2.255125</td>\n",
       "      <td>1.692403</td>\n",
       "      <td>1.579954</td>\n",
       "      <td>-1.595913</td>\n",
       "      <td>...</td>\n",
       "      <td>1.220199</td>\n",
       "      <td>-0.274231</td>\n",
       "      <td>0.256642</td>\n",
       "      <td>0.711327</td>\n",
       "      <td>0.332423</td>\n",
       "      <td>-1.404424</td>\n",
       "      <td>-0.052185</td>\n",
       "      <td>1.907115</td>\n",
       "      <td>-0.439238</td>\n",
       "      <td>-0.146300</td>\n",
       "    </tr>\n",
       "    <tr>\n",
       "      <th>747</th>\n",
       "      <td>2</td>\n",
       "      <td>Data/12k_DE/IR028_0.mat</td>\n",
       "      <td>0.713018</td>\n",
       "      <td>0.190779</td>\n",
       "      <td>-1.828771</td>\n",
       "      <td>-1.312842</td>\n",
       "      <td>1.339122</td>\n",
       "      <td>2.181694</td>\n",
       "      <td>0.482476</td>\n",
       "      <td>0.014111</td>\n",
       "      <td>...</td>\n",
       "      <td>0.218444</td>\n",
       "      <td>0.439765</td>\n",
       "      <td>0.203398</td>\n",
       "      <td>0.300954</td>\n",
       "      <td>0.409673</td>\n",
       "      <td>-0.032968</td>\n",
       "      <td>0.398995</td>\n",
       "      <td>1.227006</td>\n",
       "      <td>0.688751</td>\n",
       "      <td>-0.219829</td>\n",
       "    </tr>\n",
       "    <tr>\n",
       "      <th>2536</th>\n",
       "      <td>1</td>\n",
       "      <td>Data/12k_DE/B007_2.mat</td>\n",
       "      <td>-0.267189</td>\n",
       "      <td>-0.867570</td>\n",
       "      <td>-0.110472</td>\n",
       "      <td>1.356267</td>\n",
       "      <td>0.476665</td>\n",
       "      <td>-0.851016</td>\n",
       "      <td>0.438037</td>\n",
       "      <td>1.229348</td>\n",
       "      <td>...</td>\n",
       "      <td>-0.636909</td>\n",
       "      <td>-0.294780</td>\n",
       "      <td>1.571477</td>\n",
       "      <td>1.167544</td>\n",
       "      <td>-1.482299</td>\n",
       "      <td>-1.281436</td>\n",
       "      <td>1.436833</td>\n",
       "      <td>0.978822</td>\n",
       "      <td>-0.966898</td>\n",
       "      <td>-0.216422</td>\n",
       "    </tr>\n",
       "  </tbody>\n",
       "</table>\n",
       "<p>5 rows × 502 columns</p>\n",
       "</div>"
      ],
      "text/plain": [
       "       label                   filename         0         1         2  \\\n",
       "215        2    Data/12k_DE/IR028_2.mat  2.818930  1.243664 -1.143175   \n",
       "1216       1     Data/12k_DE/B007_1.mat -0.480198  1.050512  1.167361   \n",
       "12190      3  Data/12k_DE/OR014@6_0.mat -0.191117 -1.224750 -0.047296   \n",
       "747        2    Data/12k_DE/IR028_0.mat  0.713018  0.190779 -1.828771   \n",
       "2536       1     Data/12k_DE/B007_2.mat -0.267189 -0.867570 -0.110472   \n",
       "\n",
       "              3         4         5         6         7  ...       490  \\\n",
       "215    0.223151  2.062976  0.604272 -0.200531  0.458208  ... -2.472260   \n",
       "1216  -0.921884 -1.132211  0.906789  0.682441 -1.004847  ... -0.227806   \n",
       "12190  0.349942 -2.255125  1.692403  1.579954 -1.595913  ...  1.220199   \n",
       "747   -1.312842  1.339122  2.181694  0.482476  0.014111  ...  0.218444   \n",
       "2536   1.356267  0.476665 -0.851016  0.438037  1.229348  ... -0.636909   \n",
       "\n",
       "            491       492       493       494       495       496       497  \\\n",
       "215   -1.604583 -0.325798  0.074669 -0.395444 -0.012873  1.171116  1.176920   \n",
       "1216  -0.087589  0.468609  0.609995  0.303853  0.162466  0.323717  0.095863   \n",
       "12190 -0.274231  0.256642  0.711327  0.332423 -1.404424 -0.052185  1.907115   \n",
       "747    0.439765  0.203398  0.300954  0.409673 -0.032968  0.398995  1.227006   \n",
       "2536  -0.294780  1.571477  1.167544 -1.482299 -1.281436  1.436833  0.978822   \n",
       "\n",
       "            498       499  \n",
       "215    0.242497  0.310209  \n",
       "1216   0.453418  0.717495  \n",
       "12190 -0.439238 -0.146300  \n",
       "747    0.688751 -0.219829  \n",
       "2536  -0.966898 -0.216422  \n",
       "\n",
       "[5 rows x 502 columns]"
      ]
     },
     "execution_count": 4,
     "metadata": {},
     "output_type": "execute_result"
    }
   ],
   "source": [
    "# load data\n",
    "df_all = get_df_all(DE_path, segment_length=500, normalize=True)\n",
    "features = df_all.columns[2:]\n",
    "target = 'label'\n",
    "df_all.sample(5)"
   ]
  },
  {
   "cell_type": "code",
   "execution_count": 5,
   "metadata": {},
   "outputs": [
    {
     "data": {
      "text/plain": [
       "array([2, 1, 3, 0])"
      ]
     },
     "execution_count": 5,
     "metadata": {},
     "output_type": "execute_result"
    }
   ],
   "source": [
    "df_all['label'].unique()"
   ]
  },
  {
   "cell_type": "code",
   "execution_count": 6,
   "metadata": {},
   "outputs": [],
   "source": [
    "train=df_all.sample(frac=0.8,random_state=200) #random state is a seed value\n",
    "test=df_all.drop(train.index)\n",
    "x_test= test[features]\n",
    "y_test= test[target]"
   ]
  },
  {
   "cell_type": "code",
   "execution_count": 7,
   "metadata": {},
   "outputs": [],
   "source": [
    "random_seed = 200\n",
    "x_train, x_valid, y_train, y_valid = train_test_split(train[features], \n",
    "                                                      train[target], \n",
    "                                                      test_size=0.20, random_state=random_seed, shuffle=True\n",
    "                                                     )"
   ]
  },
  {
   "cell_type": "markdown",
   "metadata": {},
   "source": [
    "### Hyperparameters"
   ]
  },
  {
   "cell_type": "code",
   "execution_count": 8,
   "metadata": {},
   "outputs": [],
   "source": [
    "bs = 64\n",
    "# lr = 0.001\n",
    "wd = 1e-5\n",
    "betas=(0.99, 0.999)\n",
    "device = torch.device(\"cuda\") if torch.cuda.is_available() else torch.device(\"cpu\")\n",
    "random_seed = 200"
   ]
  },
  {
   "cell_type": "markdown",
   "metadata": {},
   "source": [
    "### Create DataLoader of train and validation set (dataframe to tensor)"
   ]
  },
  {
   "cell_type": "code",
   "execution_count": 9,
   "metadata": {},
   "outputs": [],
   "source": [
    "x_train_tensor = torch.tensor(x_train.values, dtype=torch.float32)\n",
    "x_valid_tensor = torch.tensor(x_valid.values, dtype=torch.float32)\n",
    "x_test_tensor = torch.tensor(x_test.values, dtype=torch.float32)\n",
    "y_train_tensor = torch.tensor(y_train.values, dtype=torch.long)\n",
    "y_valid_tensor = torch.tensor(y_valid.values, dtype=torch.long)\n",
    "y_test_tensor = torch.tensor(y_test.values, dtype=torch.long)\n",
    "# train_ds = TensorDataset(x_train_tensor, y_train_tensor)\n",
    "# valid_ds = TensorDataset(x_valid_tensor, y_valid_tensor)\n",
    "# test_ds = TensorDataset(x_test_tensor, y_test_tensor)\n",
    "# train_dl, valid_dl, test_dl = get_dataloader(train_ds, valid_ds,test_ds, bs)"
   ]
  },
  {
   "cell_type": "code",
   "execution_count": 10,
   "metadata": {},
   "outputs": [
    {
     "data": {
      "text/plain": [
       "tensor([2, 2, 2,  ..., 0, 0, 0], device='cuda:0')"
      ]
     },
     "execution_count": 10,
     "metadata": {},
     "output_type": "execute_result"
    }
   ],
   "source": [
    "#x_train_tensor.shape\n",
    "x_train_tensor.to(device)\n",
    "x_valid_tensor.to(device)\n",
    "x_test_tensor.to(device)\n",
    "y_train_tensor.to(device)\n",
    "y_valid_tensor.to(device)\n",
    "y_test_tensor.to(device)"
   ]
  },
  {
   "cell_type": "code",
   "execution_count": 11,
   "metadata": {},
   "outputs": [
    {
     "name": "stdout",
     "output_type": "stream",
     "text": [
      "x: 11512*500 fx: 11512\n",
      "x: 2878*500 fx: 2878\n",
      "x: 3597*500 fx: 3597\n"
     ]
    }
   ],
   "source": [
    "train_dataset = Dataloader.time_series_decoder_paper(x_train_tensor,y_train_tensor)\n",
    "valid_dataset = Dataloader.time_series_decoder_paper(x_valid_tensor,y_valid_tensor)\n",
    "test_dataset = Dataloader.time_series_decoder_paper(x_test_tensor,y_test_tensor)"
   ]
  },
  {
   "cell_type": "code",
   "execution_count": 23,
   "metadata": {},
   "outputs": [],
   "source": [
    "from torch.utils.data.dataloader import default_collate\n",
    "train_dl = DataLoader(train_dataset,batch_size=32,shuffle=True,collate_fn=lambda x: tuple(x_.to(device) for x_ in default_collate(x)))\n",
    "valid_dl = DataLoader(valid_dataset,batch_size=64,collate_fn=lambda x: tuple(x_.to(device) for x_ in default_collate(x)))\n",
    "test_dl = DataLoader(test_dataset,batch_size=128,collate_fn=lambda x: tuple(x_.to(device) for x_ in default_collate(x)))"
   ]
  },
  {
   "cell_type": "code",
   "execution_count": 24,
   "metadata": {},
   "outputs": [
    {
     "data": {
      "text/plain": [
       "<torch._C.Generator at 0x7fce67fb8af0>"
      ]
     },
     "execution_count": 24,
     "metadata": {},
     "output_type": "execute_result"
    }
   ],
   "source": [
    "## Instantiate model, optimizer and loss function\n",
    "torch.manual_seed(123)"
   ]
  },
  {
   "cell_type": "markdown",
   "metadata": {},
   "source": [
    "## Transformer Time Series Model "
   ]
  },
  {
   "cell_type": "code",
   "execution_count": 25,
   "metadata": {},
   "outputs": [],
   "source": [
    "class TransformerTimeSeries(torch.nn.Module):\n",
    "    \"\"\"\n",
    "    Time Series application of transformers based on paper\n",
    "    \n",
    "    causal_convolution_layer parameters:\n",
    "        in_channels: the number of features per time point\n",
    "        out_channels: the number of features outputted per time point\n",
    "        kernel_size: k is the width of the 1-D sliding kernel\n",
    "        \n",
    "    nn.Transformer parameters:\n",
    "        d_model: the size of the embedding vector (input)\n",
    "    \n",
    "    PositionalEncoding parameters:\n",
    "        d_model: the size of the embedding vector (positional vector)\n",
    "        dropout: the dropout to be used on the sum of positional+embedding vector\n",
    "    \n",
    "    \"\"\"\n",
    "    def __init__(self):\n",
    "        super(TransformerTimeSeries,self).__init__()\n",
    "        self.input_embedding = causal_convolution_layer.context_embedding(1,256,9)\n",
    "        self.positional_embedding = torch.nn.Embedding(512,256)\n",
    "        \n",
    "        self.decode_layer = torch.nn.TransformerEncoderLayer(d_model=256,nhead=8)\n",
    "        self.transformer_decoder = torch.nn.TransformerEncoder(self.decode_layer, num_layers=3)\n",
    "        \n",
    "        self.fc1 = torch.nn.Linear(256,1)\n",
    "\n",
    "        self.fc2 = torch.nn.Linear(500,4)\n",
    "\n",
    "    def forward(self,x,attention_masks):\n",
    "        \n",
    "        # concatenate observed points and time covariate\n",
    "        # (B*feature_size*n_time_points)\n",
    "        #z = torch.cat((y.unsqueeze(1),x.unsqueeze(1)),1)\n",
    "        z = x.unsqueeze(1)\n",
    "        # input_embedding returns shape (Batch size,embedding size,sequence len) -> need (sequence len,Batch size,embedding_size)\n",
    "        z_embedding = self.input_embedding(z).permute(2,0,1)\n",
    "        \n",
    "        # get my positional embeddings (Batch size, sequence_len, embedding_size) -> need (sequence len,Batch size,embedding_size)\n",
    "        #positional_embeddings = self.positional_embedding(x.type(torch.long)).permute(1,0,2)\n",
    "        \n",
    "        input_embedding = z_embedding #+positional_embeddings\n",
    "        \n",
    "        transformer_embedding = self.transformer_decoder(input_embedding, attention_masks)\n",
    "\n",
    "        output1 = self.fc1(transformer_embedding.permute(1,0,2))\n",
    "        \n",
    "        output = self.fc2(output1[:,:,0])  \n",
    "\n",
    "        #F.log_softmax(output,dim = 1) \n",
    "        #F.softmax(output,dim = 1) \n",
    "        #return F.softmax(output,dim = 1) #output\n",
    "        return output\n"
   ]
  },
  {
   "cell_type": "code",
   "execution_count": 26,
   "metadata": {},
   "outputs": [
    {
     "data": {
      "text/plain": [
       "TransformerTimeSeries(\n",
       "  (input_embedding): context_embedding(\n",
       "    (causal_convolution): CausalConv1d(1, 256, kernel_size=(9,), stride=(1,))\n",
       "  )\n",
       "  (positional_embedding): Embedding(512, 256)\n",
       "  (decode_layer): TransformerEncoderLayer(\n",
       "    (self_attn): MultiheadAttention(\n",
       "      (out_proj): NonDynamicallyQuantizableLinear(in_features=256, out_features=256, bias=True)\n",
       "    )\n",
       "    (linear1): Linear(in_features=256, out_features=2048, bias=True)\n",
       "    (dropout): Dropout(p=0.1, inplace=False)\n",
       "    (linear2): Linear(in_features=2048, out_features=256, bias=True)\n",
       "    (norm1): LayerNorm((256,), eps=1e-05, elementwise_affine=True)\n",
       "    (norm2): LayerNorm((256,), eps=1e-05, elementwise_affine=True)\n",
       "    (dropout1): Dropout(p=0.1, inplace=False)\n",
       "    (dropout2): Dropout(p=0.1, inplace=False)\n",
       "  )\n",
       "  (transformer_decoder): TransformerEncoder(\n",
       "    (layers): ModuleList(\n",
       "      (0): TransformerEncoderLayer(\n",
       "        (self_attn): MultiheadAttention(\n",
       "          (out_proj): NonDynamicallyQuantizableLinear(in_features=256, out_features=256, bias=True)\n",
       "        )\n",
       "        (linear1): Linear(in_features=256, out_features=2048, bias=True)\n",
       "        (dropout): Dropout(p=0.1, inplace=False)\n",
       "        (linear2): Linear(in_features=2048, out_features=256, bias=True)\n",
       "        (norm1): LayerNorm((256,), eps=1e-05, elementwise_affine=True)\n",
       "        (norm2): LayerNorm((256,), eps=1e-05, elementwise_affine=True)\n",
       "        (dropout1): Dropout(p=0.1, inplace=False)\n",
       "        (dropout2): Dropout(p=0.1, inplace=False)\n",
       "      )\n",
       "      (1): TransformerEncoderLayer(\n",
       "        (self_attn): MultiheadAttention(\n",
       "          (out_proj): NonDynamicallyQuantizableLinear(in_features=256, out_features=256, bias=True)\n",
       "        )\n",
       "        (linear1): Linear(in_features=256, out_features=2048, bias=True)\n",
       "        (dropout): Dropout(p=0.1, inplace=False)\n",
       "        (linear2): Linear(in_features=2048, out_features=256, bias=True)\n",
       "        (norm1): LayerNorm((256,), eps=1e-05, elementwise_affine=True)\n",
       "        (norm2): LayerNorm((256,), eps=1e-05, elementwise_affine=True)\n",
       "        (dropout1): Dropout(p=0.1, inplace=False)\n",
       "        (dropout2): Dropout(p=0.1, inplace=False)\n",
       "      )\n",
       "      (2): TransformerEncoderLayer(\n",
       "        (self_attn): MultiheadAttention(\n",
       "          (out_proj): NonDynamicallyQuantizableLinear(in_features=256, out_features=256, bias=True)\n",
       "        )\n",
       "        (linear1): Linear(in_features=256, out_features=2048, bias=True)\n",
       "        (dropout): Dropout(p=0.1, inplace=False)\n",
       "        (linear2): Linear(in_features=2048, out_features=256, bias=True)\n",
       "        (norm1): LayerNorm((256,), eps=1e-05, elementwise_affine=True)\n",
       "        (norm2): LayerNorm((256,), eps=1e-05, elementwise_affine=True)\n",
       "        (dropout1): Dropout(p=0.1, inplace=False)\n",
       "        (dropout2): Dropout(p=0.1, inplace=False)\n",
       "      )\n",
       "    )\n",
       "  )\n",
       "  (fc1): Linear(in_features=256, out_features=1, bias=True)\n",
       "  (fc2): Linear(in_features=500, out_features=4, bias=True)\n",
       ")"
      ]
     },
     "execution_count": 26,
     "metadata": {},
     "output_type": "execute_result"
    }
   ],
   "source": [
    "model = TransformerTimeSeries()\n",
    "model.to(device)"
   ]
  },
  {
   "cell_type": "markdown",
   "metadata": {},
   "source": [
    "### Hyperparameters"
   ]
  },
  {
   "cell_type": "code",
   "execution_count": 27,
   "metadata": {},
   "outputs": [],
   "source": [
    "criterion = torch.nn.CrossEntropyLoss()\n",
    "#lr = .005 # learning rate\n",
    "optimizer = optim.SGD(model.parameters(), lr=0.001, momentum=0.9)\n",
    "epochs = 50"
   ]
  },
  {
   "cell_type": "code",
   "execution_count": 28,
   "metadata": {},
   "outputs": [],
   "source": [
    "def Dp(y_pred,y_true,q):\n",
    "    return max([q*(y_pred-y_true),(q-1)*(y_pred-y_true)])"
   ]
  },
  {
   "cell_type": "code",
   "execution_count": 29,
   "metadata": {},
   "outputs": [],
   "source": [
    "def Rp_num_den(y_preds,y_trues,q):\n",
    "    numerator = np.sum([Dp(y_pred,y_true,q) for y_pred,y_true in zip(y_preds,y_trues)])\n",
    "    denominator = np.sum([np.abs(y_true) for y_true in y_trues])\n",
    "    return numerator,denominator"
   ]
  },
  {
   "cell_type": "code",
   "execution_count": 30,
   "metadata": {},
   "outputs": [],
   "source": [
    "def train_epoch(model,train_dl):\n",
    "    model.train()\n",
    "    train_loss = 0\n",
    "    train_numright = 0\n",
    "    n = 0\n",
    "    for step,(x,y,attention_masks) in enumerate(tqdm(train_dl)):\n",
    "        optimizer.zero_grad()\n",
    "        output = model(x,attention_masks[0])\n",
    "        loss = criterion(output,y)\n",
    "        #loss = criterion(output.squeeze()[:,(t0-1):(t0+24-1)],y[:,t0:]) # not missing data\n",
    "        # loss = criterion(output.squeeze()[:,(t0-1-10):(t0+24-1-10)],y[:,(t0-10):]) # missing data\n",
    "        loss.backward()\n",
    "        optimizer.step()\n",
    "        \n",
    "        _, predicted = torch.max(output.data, 1)\n",
    "\n",
    "        train_loss += (loss.detach().cpu().item() * x.shape[0])\n",
    "        train_numright += (predicted == y).sum().item()\n",
    "        n += x.shape[0]\n",
    "    return train_loss/n, train_numright/n"
   ]
  },
  {
   "cell_type": "code",
   "execution_count": 31,
   "metadata": {},
   "outputs": [],
   "source": [
    "def eval_epoch(model,valid_dl):\n",
    "    model.eval()\n",
    "    eval_loss = 0\n",
    "    eval_numright = 0\n",
    "    n = 0\n",
    "    with torch.no_grad():\n",
    "        for step,(x,y,attention_masks) in enumerate(tqdm(valid_dl)):\n",
    "            output = model(x,attention_masks[0])\n",
    "            loss = criterion(output,y)\n",
    "\n",
    "            _, predicted = torch.max(output.data, 1)\n",
    "            eval_loss += (loss.detach().cpu().item() * x.shape[0])\n",
    "            eval_numright += (predicted == y).sum().item()\n",
    "            n += x.shape[0]\n",
    "            \n",
    "    return eval_loss/n, eval_numright/n"
   ]
  },
  {
   "cell_type": "code",
   "execution_count": 32,
   "metadata": {},
   "outputs": [],
   "source": [
    "def test_epoch(model,test_dl):\n",
    "    model.eval()\n",
    "    eval_loss = 0\n",
    "    eval_numright = 0\n",
    "    n = 0\n",
    "    with torch.no_grad():\n",
    "        for step,(x,y,attention_masks) in enumerate(tqdm(test_dl)):\n",
    "            output = model(x,attention_masks[0])\n",
    "            loss = criterion(output,y)\n",
    "\n",
    "            _, predicted = torch.max(output.data, 1)\n",
    "            eval_loss += (loss.detach().cpu().item() * x.shape[0])\n",
    "            eval_numright += (predicted == y).sum().item()\n",
    "            n += x.shape[0]\n",
    "            \n",
    "    return eval_loss/n, eval_numright/n"
   ]
  },
  {
   "cell_type": "code",
   "execution_count": 33,
   "metadata": {},
   "outputs": [
    {
     "name": "stderr",
     "output_type": "stream",
     "text": [
      "  0%|          | 0/360 [00:00<?, ?it/s]/home/qing/.conda/envs/PyTorch/lib/python3.10/site-packages/torch/nn/functional.py:1949: UserWarning: nn.functional.tanh is deprecated. Use torch.tanh instead.\n",
      "  warnings.warn(\"nn.functional.tanh is deprecated. Use torch.tanh instead.\")\n",
      "100%|██████████| 360/360 [00:22<00:00, 15.96it/s]\n",
      "100%|██████████| 45/45 [00:01<00:00, 23.09it/s]\n"
     ]
    },
    {
     "name": "stdout",
     "output_type": "stream",
     "text": [
      "Epoch 0: Train loss/accuracy: 0.9060841840617436 / 0.547776233495483 \t Validation loss/accuracy: 0.8054635579011107 / 0.6125781792911744\n"
     ]
    },
    {
     "name": "stderr",
     "output_type": "stream",
     "text": [
      "100%|██████████| 360/360 [00:21<00:00, 16.84it/s]\n",
      "100%|██████████| 45/45 [00:01<00:00, 23.17it/s]\n"
     ]
    },
    {
     "name": "stdout",
     "output_type": "stream",
     "text": [
      "Epoch 1: Train loss/accuracy: 0.7883792707205979 / 0.6188325225851286 \t Validation loss/accuracy: 0.7182666305206649 / 0.6594857539958304\n"
     ]
    },
    {
     "name": "stderr",
     "output_type": "stream",
     "text": [
      "100%|██████████| 360/360 [00:21<00:00, 16.76it/s]\n",
      "100%|██████████| 45/45 [00:01<00:00, 22.96it/s]\n"
     ]
    },
    {
     "name": "stdout",
     "output_type": "stream",
     "text": [
      "Epoch 2: Train loss/accuracy: 0.6145840676979027 / 0.7231584433634468 \t Validation loss/accuracy: 0.7230437037595201 / 0.6712995135510771\n"
     ]
    },
    {
     "name": "stderr",
     "output_type": "stream",
     "text": [
      "100%|██████████| 360/360 [00:21<00:00, 16.72it/s]\n",
      "100%|██████████| 45/45 [00:01<00:00, 23.13it/s]\n"
     ]
    },
    {
     "name": "stdout",
     "output_type": "stream",
     "text": [
      "Epoch 3: Train loss/accuracy: 0.5013235384097441 / 0.7749305072967339 \t Validation loss/accuracy: 0.4155558662914915 / 0.8047255038220987\n"
     ]
    },
    {
     "name": "stderr",
     "output_type": "stream",
     "text": [
      "100%|██████████| 360/360 [00:21<00:00, 16.69it/s]\n",
      "100%|██████████| 45/45 [00:01<00:00, 23.10it/s]\n"
     ]
    },
    {
     "name": "stdout",
     "output_type": "stream",
     "text": [
      "Epoch 4: Train loss/accuracy: 0.4217651196864846 / 0.8139332870048644 \t Validation loss/accuracy: 0.3612834733960693 / 0.8373870743571925\n"
     ]
    },
    {
     "name": "stderr",
     "output_type": "stream",
     "text": [
      "100%|██████████| 360/360 [00:21<00:00, 16.68it/s]\n",
      "100%|██████████| 45/45 [00:01<00:00, 23.02it/s]\n"
     ]
    },
    {
     "name": "stdout",
     "output_type": "stream",
     "text": [
      "Epoch 5: Train loss/accuracy: 0.3319250644754833 / 0.8547602501737318 \t Validation loss/accuracy: 0.36690324130697827 / 0.8353022932592078\n"
     ]
    },
    {
     "name": "stderr",
     "output_type": "stream",
     "text": [
      "100%|██████████| 360/360 [00:21<00:00, 16.65it/s]\n",
      "100%|██████████| 45/45 [00:01<00:00, 22.99it/s]\n"
     ]
    },
    {
     "name": "stdout",
     "output_type": "stream",
     "text": [
      "Epoch 6: Train loss/accuracy: 0.2441524353636852 / 0.9066191799861014 \t Validation loss/accuracy: 0.15725669238905346 / 0.9343293954134816\n"
     ]
    },
    {
     "name": "stderr",
     "output_type": "stream",
     "text": [
      "100%|██████████| 360/360 [00:21<00:00, 16.64it/s]\n",
      "100%|██████████| 45/45 [00:01<00:00, 22.85it/s]\n"
     ]
    },
    {
     "name": "stdout",
     "output_type": "stream",
     "text": [
      "Epoch 7: Train loss/accuracy: 0.12750238317237744 / 0.9536136205698401 \t Validation loss/accuracy: 0.19097693811240007 / 0.935371785962474\n"
     ]
    },
    {
     "name": "stderr",
     "output_type": "stream",
     "text": [
      "100%|██████████| 360/360 [00:21<00:00, 16.62it/s]\n",
      "100%|██████████| 45/45 [00:01<00:00, 22.90it/s]\n"
     ]
    },
    {
     "name": "stdout",
     "output_type": "stream",
     "text": [
      "Epoch 8: Train loss/accuracy: 0.09301403420508074 / 0.967685892981237 \t Validation loss/accuracy: 0.08803996820160712 / 0.9718554551772064\n"
     ]
    },
    {
     "name": "stderr",
     "output_type": "stream",
     "text": [
      "100%|██████████| 360/360 [00:21<00:00, 16.64it/s]\n",
      "100%|██████████| 45/45 [00:01<00:00, 22.98it/s]\n"
     ]
    },
    {
     "name": "stdout",
     "output_type": "stream",
     "text": [
      "Epoch 9: Train loss/accuracy: 0.0653583872552037 / 0.9782835302293259 \t Validation loss/accuracy: 0.056508817781821735 / 0.9815844336344683\n"
     ]
    },
    {
     "name": "stderr",
     "output_type": "stream",
     "text": [
      "100%|██████████| 360/360 [00:21<00:00, 16.62it/s]\n",
      "100%|██████████| 45/45 [00:01<00:00, 22.91it/s]\n"
     ]
    },
    {
     "name": "stdout",
     "output_type": "stream",
     "text": [
      "Epoch 10: Train loss/accuracy: 0.048706113456931585 / 0.9841035441278666 \t Validation loss/accuracy: 0.39510326169281057 / 0.8929812369701181\n"
     ]
    },
    {
     "name": "stderr",
     "output_type": "stream",
     "text": [
      "100%|██████████| 360/360 [00:21<00:00, 16.60it/s]\n",
      "100%|██████████| 45/45 [00:01<00:00, 22.87it/s]\n"
     ]
    },
    {
     "name": "stdout",
     "output_type": "stream",
     "text": [
      "Epoch 11: Train loss/accuracy: 0.056576700184896814 / 0.9819318971507992 \t Validation loss/accuracy: 0.06718405902054345 / 0.9788047255038221\n"
     ]
    },
    {
     "name": "stderr",
     "output_type": "stream",
     "text": [
      "100%|██████████| 360/360 [00:21<00:00, 16.62it/s]\n",
      "100%|██████████| 45/45 [00:01<00:00, 22.84it/s]\n"
     ]
    },
    {
     "name": "stdout",
     "output_type": "stream",
     "text": [
      "Epoch 12: Train loss/accuracy: 0.029657043155821208 / 0.9906184850590688 \t Validation loss/accuracy: 0.03823799103410439 / 0.9885337039610841\n"
     ]
    },
    {
     "name": "stderr",
     "output_type": "stream",
     "text": [
      "100%|██████████| 360/360 [00:21<00:00, 16.61it/s]\n",
      "100%|██████████| 45/45 [00:01<00:00, 22.82it/s]\n"
     ]
    },
    {
     "name": "stdout",
     "output_type": "stream",
     "text": [
      "Epoch 13: Train loss/accuracy: 0.028258894126515388 / 0.9900972897845726 \t Validation loss/accuracy: 0.098980146710702 / 0.9715079916608756\n"
     ]
    },
    {
     "name": "stderr",
     "output_type": "stream",
     "text": [
      "100%|██████████| 360/360 [00:21<00:00, 16.60it/s]\n",
      "100%|██████████| 45/45 [00:01<00:00, 22.91it/s]\n"
     ]
    },
    {
     "name": "stdout",
     "output_type": "stream",
     "text": [
      "Epoch 14: Train loss/accuracy: 0.013904234341755 / 0.9959173036831133 \t Validation loss/accuracy: 0.05197610380354546 / 0.9874913134120917\n"
     ]
    },
    {
     "name": "stderr",
     "output_type": "stream",
     "text": [
      "100%|██████████| 360/360 [00:21<00:00, 16.60it/s]\n",
      "100%|██████████| 45/45 [00:01<00:00, 22.87it/s]\n"
     ]
    },
    {
     "name": "stdout",
     "output_type": "stream",
     "text": [
      "Epoch 15: Train loss/accuracy: 0.0069572605276433394 / 0.9978283530229326 \t Validation loss/accuracy: 0.029024196914225673 / 0.9906184850590688\n"
     ]
    },
    {
     "name": "stderr",
     "output_type": "stream",
     "text": [
      "100%|██████████| 360/360 [00:21<00:00, 16.59it/s]\n",
      "100%|██████████| 45/45 [00:01<00:00, 22.92it/s]\n"
     ]
    },
    {
     "name": "stdout",
     "output_type": "stream",
     "text": [
      "Epoch 16: Train loss/accuracy: 0.007803372290523243 / 0.9974808895066019 \t Validation loss/accuracy: 0.025849242648401036 / 0.9927032661570535\n"
     ]
    },
    {
     "name": "stderr",
     "output_type": "stream",
     "text": [
      "100%|██████████| 360/360 [00:21<00:00, 16.60it/s]\n",
      "100%|██████████| 45/45 [00:01<00:00, 22.83it/s]\n"
     ]
    },
    {
     "name": "stdout",
     "output_type": "stream",
     "text": [
      "Epoch 17: Train loss/accuracy: 0.004422125376788233 / 0.9984364141765114 \t Validation loss/accuracy: 0.02803342889371775 / 0.9916608756080612\n"
     ]
    },
    {
     "name": "stderr",
     "output_type": "stream",
     "text": [
      "100%|██████████| 360/360 [00:21<00:00, 16.62it/s]\n",
      "100%|██████████| 45/45 [00:01<00:00, 23.01it/s]\n"
     ]
    },
    {
     "name": "stdout",
     "output_type": "stream",
     "text": [
      "Epoch 18: Train loss/accuracy: 0.0015416319014910993 / 0.9994788047255038 \t Validation loss/accuracy: 0.03348400233322502 / 0.9927032661570535\n"
     ]
    },
    {
     "name": "stderr",
     "output_type": "stream",
     "text": [
      "100%|██████████| 360/360 [00:21<00:00, 16.62it/s]\n",
      "100%|██████████| 45/45 [00:01<00:00, 22.92it/s]\n"
     ]
    },
    {
     "name": "stdout",
     "output_type": "stream",
     "text": [
      "Epoch 19: Train loss/accuracy: 0.006206087756582444 / 0.9977414871438499 \t Validation loss/accuracy: 0.032773594621713246 / 0.9933981931897151\n"
     ]
    },
    {
     "name": "stderr",
     "output_type": "stream",
     "text": [
      "100%|██████████| 360/360 [00:21<00:00, 16.60it/s]\n",
      "100%|██████████| 45/45 [00:01<00:00, 22.90it/s]\n"
     ]
    },
    {
     "name": "stdout",
     "output_type": "stream",
     "text": [
      "Epoch 20: Train loss/accuracy: 0.013249713663173731 / 0.9966990965948576 \t Validation loss/accuracy: 0.03468942731622764 / 0.990271021542738\n"
     ]
    },
    {
     "name": "stderr",
     "output_type": "stream",
     "text": [
      "100%|██████████| 360/360 [00:21<00:00, 16.59it/s]\n",
      "100%|██████████| 45/45 [00:01<00:00, 22.74it/s]\n"
     ]
    },
    {
     "name": "stdout",
     "output_type": "stream",
     "text": [
      "Epoch 21: Train loss/accuracy: 0.0013797405648311484 / 0.9997394023627519 \t Validation loss/accuracy: 0.064197514604038 / 0.9857539958304378\n"
     ]
    },
    {
     "name": "stderr",
     "output_type": "stream",
     "text": [
      "100%|██████████| 360/360 [00:21<00:00, 16.61it/s]\n",
      "100%|██████████| 45/45 [00:01<00:00, 22.89it/s]\n"
     ]
    },
    {
     "name": "stdout",
     "output_type": "stream",
     "text": [
      "Epoch 22: Train loss/accuracy: 0.001400564527356765 / 0.9994788047255038 \t Validation loss/accuracy: 0.029679245013491878 / 0.9930507296733843\n"
     ]
    },
    {
     "name": "stderr",
     "output_type": "stream",
     "text": [
      "100%|██████████| 360/360 [00:21<00:00, 16.59it/s]\n",
      "100%|██████████| 45/45 [00:01<00:00, 22.91it/s]\n"
     ]
    },
    {
     "name": "stdout",
     "output_type": "stream",
     "text": [
      "Epoch 23: Train loss/accuracy: 0.0011779969200831195 / 0.9998262682418346 \t Validation loss/accuracy: 0.04042454036984973 / 0.9923558026407228\n"
     ]
    },
    {
     "name": "stderr",
     "output_type": "stream",
     "text": [
      "100%|██████████| 360/360 [00:21<00:00, 16.60it/s]\n",
      "100%|██████████| 45/45 [00:01<00:00, 22.93it/s]\n"
     ]
    },
    {
     "name": "stdout",
     "output_type": "stream",
     "text": [
      "Epoch 24: Train loss/accuracy: 0.0006335680419113467 / 1.0 \t Validation loss/accuracy: 0.028942060676302058 / 0.9930507296733843\n"
     ]
    },
    {
     "name": "stderr",
     "output_type": "stream",
     "text": [
      "100%|██████████| 360/360 [00:21<00:00, 16.60it/s]\n",
      "100%|██████████| 45/45 [00:01<00:00, 22.90it/s]\n"
     ]
    },
    {
     "name": "stdout",
     "output_type": "stream",
     "text": [
      "Epoch 25: Train loss/accuracy: 0.00026607159590495537 / 1.0 \t Validation loss/accuracy: 0.027977815581905662 / 0.9940931202223766\n"
     ]
    },
    {
     "name": "stderr",
     "output_type": "stream",
     "text": [
      "100%|██████████| 360/360 [00:21<00:00, 16.62it/s]\n",
      "100%|██████████| 45/45 [00:01<00:00, 22.82it/s]\n"
     ]
    },
    {
     "name": "stdout",
     "output_type": "stream",
     "text": [
      "Epoch 26: Train loss/accuracy: 0.01265852572696929 / 0.9970465601111883 \t Validation loss/accuracy: 0.03882201861101025 / 0.9933981931897151\n"
     ]
    },
    {
     "name": "stderr",
     "output_type": "stream",
     "text": [
      "100%|██████████| 360/360 [00:21<00:00, 16.61it/s]\n",
      "100%|██████████| 45/45 [00:01<00:00, 22.88it/s]\n"
     ]
    },
    {
     "name": "stdout",
     "output_type": "stream",
     "text": [
      "Epoch 27: Train loss/accuracy: 0.0005203491146378429 / 1.0 \t Validation loss/accuracy: 0.028583710834246757 / 0.9940931202223766\n"
     ]
    },
    {
     "name": "stderr",
     "output_type": "stream",
     "text": [
      "100%|██████████| 360/360 [00:21<00:00, 16.61it/s]\n",
      "100%|██████████| 45/45 [00:01<00:00, 22.86it/s]\n"
     ]
    },
    {
     "name": "stdout",
     "output_type": "stream",
     "text": [
      "Epoch 28: Train loss/accuracy: 0.0003404416266449081 / 1.0 \t Validation loss/accuracy: 0.03371810197665649 / 0.9930507296733843\n"
     ]
    },
    {
     "name": "stderr",
     "output_type": "stream",
     "text": [
      "100%|██████████| 360/360 [00:21<00:00, 16.60it/s]\n",
      "100%|██████████| 45/45 [00:01<00:00, 22.89it/s]\n"
     ]
    },
    {
     "name": "stdout",
     "output_type": "stream",
     "text": [
      "Epoch 29: Train loss/accuracy: 0.00029492301070842573 / 1.0 \t Validation loss/accuracy: 0.02927384968061334 / 0.9940931202223766\n"
     ]
    },
    {
     "name": "stderr",
     "output_type": "stream",
     "text": [
      "100%|██████████| 360/360 [00:21<00:00, 16.61it/s]\n",
      "100%|██████████| 45/45 [00:01<00:00, 22.90it/s]\n"
     ]
    },
    {
     "name": "stdout",
     "output_type": "stream",
     "text": [
      "Epoch 30: Train loss/accuracy: 0.0001438199577053962 / 1.0 \t Validation loss/accuracy: 0.030706214787083522 / 0.9937456567060459\n"
     ]
    },
    {
     "name": "stderr",
     "output_type": "stream",
     "text": [
      "100%|██████████| 360/360 [00:21<00:00, 16.59it/s]\n",
      "100%|██████████| 45/45 [00:01<00:00, 22.81it/s]\n"
     ]
    },
    {
     "name": "stdout",
     "output_type": "stream",
     "text": [
      "Epoch 31: Train loss/accuracy: 0.0001178960410868789 / 1.0 \t Validation loss/accuracy: 0.030212952338310853 / 0.9937456567060459\n"
     ]
    },
    {
     "name": "stderr",
     "output_type": "stream",
     "text": [
      "100%|██████████| 360/360 [00:21<00:00, 16.61it/s]\n",
      "100%|██████████| 45/45 [00:01<00:00, 23.00it/s]\n"
     ]
    },
    {
     "name": "stdout",
     "output_type": "stream",
     "text": [
      "Epoch 32: Train loss/accuracy: 0.00017168241483659426 / 1.0 \t Validation loss/accuracy: 0.029485167353252198 / 0.9944405837387075\n"
     ]
    },
    {
     "name": "stderr",
     "output_type": "stream",
     "text": [
      "100%|██████████| 360/360 [00:21<00:00, 16.58it/s]\n",
      "100%|██████████| 45/45 [00:01<00:00, 22.89it/s]\n"
     ]
    },
    {
     "name": "stdout",
     "output_type": "stream",
     "text": [
      "Epoch 33: Train loss/accuracy: 0.00010291046935320242 / 1.0 \t Validation loss/accuracy: 0.030225706299692633 / 0.9937456567060459\n"
     ]
    },
    {
     "name": "stderr",
     "output_type": "stream",
     "text": [
      "100%|██████████| 360/360 [00:21<00:00, 16.58it/s]\n",
      "100%|██████████| 45/45 [00:01<00:00, 22.83it/s]\n"
     ]
    },
    {
     "name": "stdout",
     "output_type": "stream",
     "text": [
      "Epoch 34: Train loss/accuracy: 0.00013728844371249627 / 1.0 \t Validation loss/accuracy: 0.03074867173840772 / 0.9933981931897151\n"
     ]
    },
    {
     "name": "stderr",
     "output_type": "stream",
     "text": [
      "100%|██████████| 360/360 [00:21<00:00, 16.60it/s]\n",
      "100%|██████████| 45/45 [00:01<00:00, 22.88it/s]\n"
     ]
    },
    {
     "name": "stdout",
     "output_type": "stream",
     "text": [
      "Epoch 35: Train loss/accuracy: 0.0001076910329561495 / 1.0 \t Validation loss/accuracy: 0.03037517799517639 / 0.9940931202223766\n"
     ]
    },
    {
     "name": "stderr",
     "output_type": "stream",
     "text": [
      "100%|██████████| 360/360 [00:21<00:00, 16.61it/s]\n",
      "100%|██████████| 45/45 [00:01<00:00, 23.04it/s]\n"
     ]
    },
    {
     "name": "stdout",
     "output_type": "stream",
     "text": [
      "Epoch 36: Train loss/accuracy: 0.00010134685080322888 / 1.0 \t Validation loss/accuracy: 0.03177623354124884 / 0.9937456567060459\n"
     ]
    },
    {
     "name": "stderr",
     "output_type": "stream",
     "text": [
      "100%|██████████| 360/360 [00:21<00:00, 16.59it/s]\n",
      "100%|██████████| 45/45 [00:01<00:00, 22.74it/s]\n"
     ]
    },
    {
     "name": "stdout",
     "output_type": "stream",
     "text": [
      "Epoch 37: Train loss/accuracy: 7.417716343639332e-05 / 1.0 \t Validation loss/accuracy: 0.03146754987054078 / 0.9940931202223766\n"
     ]
    },
    {
     "name": "stderr",
     "output_type": "stream",
     "text": [
      "100%|██████████| 360/360 [00:21<00:00, 16.60it/s]\n",
      "100%|██████████| 45/45 [00:01<00:00, 22.86it/s]\n"
     ]
    },
    {
     "name": "stdout",
     "output_type": "stream",
     "text": [
      "Epoch 38: Train loss/accuracy: 7.628108610216657e-05 / 1.0 \t Validation loss/accuracy: 0.03213364021183002 / 0.9940931202223766\n"
     ]
    },
    {
     "name": "stderr",
     "output_type": "stream",
     "text": [
      "100%|██████████| 360/360 [00:21<00:00, 16.61it/s]\n",
      "100%|██████████| 45/45 [00:01<00:00, 22.88it/s]\n"
     ]
    },
    {
     "name": "stdout",
     "output_type": "stream",
     "text": [
      "Epoch 39: Train loss/accuracy: 7.652545284069003e-05 / 1.0 \t Validation loss/accuracy: 0.03328895610064262 / 0.9933981931897151\n"
     ]
    },
    {
     "name": "stderr",
     "output_type": "stream",
     "text": [
      "100%|██████████| 360/360 [00:21<00:00, 16.60it/s]\n",
      "100%|██████████| 45/45 [00:01<00:00, 22.81it/s]\n"
     ]
    },
    {
     "name": "stdout",
     "output_type": "stream",
     "text": [
      "Epoch 40: Train loss/accuracy: 7.608694918550041e-05 / 1.0 \t Validation loss/accuracy: 0.03097962111155302 / 0.9944405837387075\n"
     ]
    },
    {
     "name": "stderr",
     "output_type": "stream",
     "text": [
      "100%|██████████| 360/360 [00:21<00:00, 16.60it/s]\n",
      "100%|██████████| 45/45 [00:01<00:00, 22.92it/s]\n"
     ]
    },
    {
     "name": "stdout",
     "output_type": "stream",
     "text": [
      "Epoch 41: Train loss/accuracy: 6.977618101254601e-05 / 1.0 \t Validation loss/accuracy: 0.028209089884118892 / 0.995135510771369\n"
     ]
    },
    {
     "name": "stderr",
     "output_type": "stream",
     "text": [
      "100%|██████████| 360/360 [00:21<00:00, 16.63it/s]\n",
      "100%|██████████| 45/45 [00:01<00:00, 22.94it/s]\n"
     ]
    },
    {
     "name": "stdout",
     "output_type": "stream",
     "text": [
      "Epoch 42: Train loss/accuracy: 6.537493344154437e-05 / 1.0 \t Validation loss/accuracy: 0.028833042023371117 / 0.9947880472550382\n"
     ]
    },
    {
     "name": "stderr",
     "output_type": "stream",
     "text": [
      "100%|██████████| 360/360 [00:21<00:00, 16.61it/s]\n",
      "100%|██████████| 45/45 [00:01<00:00, 22.83it/s]\n"
     ]
    },
    {
     "name": "stdout",
     "output_type": "stream",
     "text": [
      "Epoch 43: Train loss/accuracy: 6.233460560391888e-05 / 1.0 \t Validation loss/accuracy: 0.030987890517538773 / 0.9944405837387075\n"
     ]
    },
    {
     "name": "stderr",
     "output_type": "stream",
     "text": [
      "100%|██████████| 360/360 [00:21<00:00, 16.61it/s]\n",
      "100%|██████████| 45/45 [00:01<00:00, 22.95it/s]\n"
     ]
    },
    {
     "name": "stdout",
     "output_type": "stream",
     "text": [
      "Epoch 44: Train loss/accuracy: 5.139636984919881e-05 / 1.0 \t Validation loss/accuracy: 0.031646906938670005 / 0.9944405837387075\n"
     ]
    },
    {
     "name": "stderr",
     "output_type": "stream",
     "text": [
      "100%|██████████| 360/360 [00:21<00:00, 16.61it/s]\n",
      "100%|██████████| 45/45 [00:01<00:00, 22.99it/s]\n"
     ]
    },
    {
     "name": "stdout",
     "output_type": "stream",
     "text": [
      "Epoch 45: Train loss/accuracy: 5.3720958105488136e-05 / 1.0 \t Validation loss/accuracy: 0.0311897210242966 / 0.9947880472550382\n"
     ]
    },
    {
     "name": "stderr",
     "output_type": "stream",
     "text": [
      "100%|██████████| 360/360 [00:21<00:00, 16.60it/s]\n",
      "100%|██████████| 45/45 [00:01<00:00, 22.91it/s]\n"
     ]
    },
    {
     "name": "stdout",
     "output_type": "stream",
     "text": [
      "Epoch 46: Train loss/accuracy: 4.551264835162195e-05 / 1.0 \t Validation loss/accuracy: 0.03427172325885789 / 0.9940931202223766\n"
     ]
    },
    {
     "name": "stderr",
     "output_type": "stream",
     "text": [
      "100%|██████████| 360/360 [00:21<00:00, 16.61it/s]\n",
      "100%|██████████| 45/45 [00:01<00:00, 22.88it/s]\n"
     ]
    },
    {
     "name": "stdout",
     "output_type": "stream",
     "text": [
      "Epoch 47: Train loss/accuracy: 4.843244184906795e-05 / 1.0 \t Validation loss/accuracy: 0.03159634054727759 / 0.9947880472550382\n"
     ]
    },
    {
     "name": "stderr",
     "output_type": "stream",
     "text": [
      "100%|██████████| 360/360 [00:21<00:00, 16.60it/s]\n",
      "100%|██████████| 45/45 [00:01<00:00, 22.93it/s]\n"
     ]
    },
    {
     "name": "stdout",
     "output_type": "stream",
     "text": [
      "Epoch 48: Train loss/accuracy: 5.870381713987812e-05 / 1.0 \t Validation loss/accuracy: 0.032965196517551455 / 0.9940931202223766\n"
     ]
    },
    {
     "name": "stderr",
     "output_type": "stream",
     "text": [
      "100%|██████████| 360/360 [00:21<00:00, 16.61it/s]\n",
      "100%|██████████| 45/45 [00:01<00:00, 22.93it/s]"
     ]
    },
    {
     "name": "stdout",
     "output_type": "stream",
     "text": [
      "Epoch 49: Train loss/accuracy: 3.8919125162274965e-05 / 1.0 \t Validation loss/accuracy: 0.032198630866057114 / 0.9940931202223766\n"
     ]
    },
    {
     "name": "stderr",
     "output_type": "stream",
     "text": [
      "\n"
     ]
    }
   ],
   "source": [
    "train_epoch_loss = []\n",
    "eval_epoch_loss = []\n",
    "train_epoch_acc = []\n",
    "eval_epoch_acc = []\n",
    "Rp_best = 10\n",
    "for e in range(epochs):\n",
    "    train_loss = []\n",
    "    eval_loss = []\n",
    "    train_acc = []\n",
    "    eval_acc = []\n",
    "\n",
    "    l_t, a_t = train_epoch(model,train_dl)\n",
    "    train_loss.append(l_t)\n",
    "    train_acc.append(a_t)\n",
    "\n",
    "    l_e, a_e = eval_epoch(model,valid_dl)\n",
    "    eval_loss.append(l_e)\n",
    "    eval_acc.append(a_e)\n",
    "    \n",
    "        \n",
    "    train_epoch_loss.append(np.mean(train_loss))\n",
    "    eval_epoch_loss.append(np.mean(eval_loss))\n",
    "    train_epoch_acc.append(np.mean(train_acc))\n",
    "    eval_epoch_acc.append(np.mean(eval_acc))\n",
    "\n",
    "    print(\"Epoch {}: Train loss/accuracy: {} / {} \\t Validation loss/accuracy: {} / {}\".format(e,\n",
    "                                                             np.mean(train_loss),\n",
    "                                                             np.mean(train_acc),\n",
    "                                                             np.mean(eval_loss),\n",
    "                                                             np.mean(eval_acc)))"
   ]
  },
  {
   "cell_type": "code",
   "execution_count": 34,
   "metadata": {},
   "outputs": [
    {
     "name": "stderr",
     "output_type": "stream",
     "text": [
      "100%|██████████| 29/29 [00:02<00:00, 11.42it/s]\n"
     ]
    },
    {
     "data": {
      "text/plain": [
       "(0.014015941604492758, 0.9966638865721434)"
      ]
     },
     "execution_count": 34,
     "metadata": {},
     "output_type": "execute_result"
    }
   ],
   "source": [
    "eval_epoch(model,test_dl)"
   ]
  },
  {
   "cell_type": "code",
   "execution_count": 30,
   "metadata": {},
   "outputs": [],
   "source": [
    "(x,y,attention_masks) = next(iter(test_dl))\n",
    "# x.to(device)\n",
    "# y.to(device)\n",
    "# attention_masks.to(device)\n",
    "out = model(x,attention_masks[0])"
   ]
  },
  {
   "cell_type": "code",
   "execution_count": 35,
   "metadata": {},
   "outputs": [
    {
     "name": "stdout",
     "output_type": "stream",
     "text": [
      "tensor([-3.1910, -6.3077,  7.8491, -4.0130], device='cuda:0',\n",
      "       grad_fn=<SelectBackward0>)\n",
      "tensor(2, device='cuda:0')\n",
      "torch.Size([128, 500])\n"
     ]
    }
   ],
   "source": [
    "print(out[0,])\n",
    "print(y[0])\n",
    "print(x.shape)"
   ]
  },
  {
   "cell_type": "code",
   "execution_count": 36,
   "metadata": {},
   "outputs": [
    {
     "data": {
      "text/plain": [
       "[<matplotlib.lines.Line2D at 0x7f780a192b30>]"
      ]
     },
     "execution_count": 36,
     "metadata": {},
     "output_type": "execute_result"
    },
    {
     "data": {
      "image/png": "[encoded data removed]",
      "text/plain": [
       "<Figure size 432x288 with 1 Axes>"
      ]
     },
     "metadata": {
      "needs_background": "light"
     },
     "output_type": "display_data"
    }
   ],
   "source": [
    "plt.plot(x[1,:].cpu().detach().numpy())"
   ]
  },
  {
   "cell_type": "code",
   "execution_count": null,
   "metadata": {},
   "outputs": [],
   "source": [
    "# the class with the highest energy is what we choose as prediction\n",
    "_, predicted = torch.max(out.data, 1)\n",
    "print(predicted)\n",
    "print(y)\n",
    "print((predicted == y).sum().item())"
   ]
  }
 ],
 "metadata": {
  "kernelspec": {
   "display_name": "Python 3.8.2 64-bit",
   "language": "python",
   "name": "python3"
  },
  "language_info": {
   "codemirror_mode": {
    "name": "ipython",
    "version": 3
   },
   "file_extension": ".py",
   "mimetype": "text/x-python",
   "name": "python",
   "nbconvert_exporter": "python",
   "pygments_lexer": "ipython3",
   "version": "3.8.2"
  },
  "orig_nbformat": 4,
  "vscode": {
   "interpreter": {
    "hash": "31f2aee4e71d21fbe5cf8b01ff0e069b9275f58929596ceb00d14d90e3e16cd6"
   }
  }
 },
 "nbformat": 4,
 "nbformat_minor": 2
}
